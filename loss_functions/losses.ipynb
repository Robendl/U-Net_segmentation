{
 "cells": [
  {
   "cell_type": "code",
   "execution_count": 2,
   "metadata": {},
   "outputs": [
    {
     "name": "stdout",
     "output_type": "stream",
     "text": [
      "dice loss 0.1898733377456665\n",
      "bce loss 0.2123577892780304\n"
     ]
    }
   ],
   "source": [
    "import torch\n",
    "import torch.nn.functional as F\n",
    "\n",
    "# Simulated ground truth and predicted segmentation masks\n",
    "# Assuming y_true and y_pred are tensors containing the ground truth and predicted masks respectively\n",
    "\n",
    "def binary_cross_entropy_loss(y_pred, y_true):\n",
    "    bce_loss = F.binary_cross_entropy(y_pred, y_true)\n",
    "    return bce_loss\n",
    "\n",
    "def dice_coefficient(y_true, y_pred):\n",
    "    intersection = torch.sum(y_true * y_pred)\n",
    "    union = torch.sum(y_true) + torch.sum(y_pred)\n",
    "    dice_score = (2. * intersection) / (union + 1e-8)  # Adding a small epsilon to avoid division by zero\n",
    "    return dice_score\n",
    "\n",
    "def dice_loss(y_true, y_pred):\n",
    "    return 1 - dice_coefficient(y_true, y_pred)\n",
    "\n",
    "\n",
    "y_true = torch.tensor([[0, 1, 1, 0], [1, 0, 1, 0]], dtype=torch.float32)\n",
    "y_pred = torch.tensor([[0.1, 0.9, 0.8, 0.3], [0.8, 0.2, 0.7, 0.1]], dtype=torch.float32)\n",
    "\n",
    "dice_loss_score = dice_loss(y_true, y_pred)\n",
    "binary_cross_entropy_loss_score = binary_cross_entropy_loss(y_pred, y_true)\n",
    "\n",
    "print(\"dice loss:\", dice_loss_score.item())\n",
    "print(\"bce loss:\", binary_cross_entropy_loss_score.item())\n",
    "\n",
    "\n",
    "\n",
    "\n"
   ]
  }
 ],
 "metadata": {
  "kernelspec": {
   "display_name": "Python 3",
   "language": "python",
   "name": "python3"
  },
  "language_info": {
   "codemirror_mode": {
    "name": "ipython",
    "version": 3
   },
   "file_extension": ".py",
   "mimetype": "text/x-python",
   "name": "python",
   "nbconvert_exporter": "python",
   "pygments_lexer": "ipython3",
   "version": "3.10.0"
  }
 },
 "nbformat": 4,
 "nbformat_minor": 2
}
