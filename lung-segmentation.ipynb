{
 "cells": [
  {
   "cell_type": "code",
   "execution_count": null,
   "id": "initial_id",
   "metadata": {
    "collapsed": true,
    "jupyter": {
     "outputs_hidden": true
    }
   },
   "outputs": [],
   "source": [
    "data = []"
   ]
  },
  {
   "cell_type": "code",
   "execution_count": 4,
   "id": "f41ddcc885024f06",
   "metadata": {
    "collapsed": false,
    "ExecuteTime": {
     "end_time": "2023-12-06T14:49:42.130724640Z",
     "start_time": "2023-12-06T14:46:08.506343373Z"
    }
   },
   "outputs": [],
   "source": [
    "import os\n",
    "import nibabel as nib\n",
    "import numpy as np\n",
    "import matplotlib.pyplot as plt\n",
    "\n",
    "# Path to the directory containing your images and labels\n",
    "images_dir = 'data/imagesTr'\n",
    "labels_dir = 'data/labelsTr'\n",
    "output_dir_images = 'data/images_png' \n",
    "output_dir_labels = 'data/labels_png'\n",
    "\n",
    "os.makedirs(output_dir_labels, exist_ok=True)\n",
    "os.makedirs(output_dir_images, exist_ok=True)\n",
    "\n",
    "# List all the .nii.gz files in the directory\n",
    "file_list = [file for file in os.listdir(images_dir) if file.endswith('.nii.gz') and file.startswith('lung')]\n",
    "modified_list = [file_name[:-7] for file_name in file_list]\n",
    "len_list = len(modified_list)\n",
    "\n",
    "label_idx = 0\n",
    "\n",
    "for idx, file in enumerate(file_list):\n",
    "    # Load the label\n",
    "    label_path = os.path.join(labels_dir, file)\n",
    "    label = nib.load(label_path).get_fdata()\n",
    "\n",
    "    # Check if the label contains any white (tumor) pixels\n",
    "    if np.max(label) > 0:\n",
    "        # Load the corresponding image\n",
    "        image_path = os.path.join(images_dir, file)\n",
    "        img = nib.load(image_path).get_fdata()\n",
    "\n",
    "        # Convert slices with tumor labels to PNG\n",
    "        for i in range(label.shape[2]):  # Loop through the slices\n",
    "            label_slice = label[:, :, i]\n",
    "            ones = np.sum(label_slice == 1.0)\n",
    "\n",
    "            if ones > 0.015 * label_slice.shape[0]:\n",
    "                slice_img = ((img[:, :, i] - np.min(img[:, :, i])) / (np.max(img[:, :, i]) - np.min(img[:, :, i]))) * 255.0\n",
    "                slice_img = slice_img.astype(np.uint8)\n",
    "\n",
    "                # Save the slice as PNG\n",
    "                output_file_imgs = os.path.join(output_dir_images, (\"image\" + str(label_idx) + \".png\"))\n",
    "                output_file_labels = os.path.join(output_dir_labels, (\"image\" + str(label_idx) + \".png\"))\n",
    "                plt.imsave(output_file_imgs, slice_img)\n",
    "                plt.imsave(output_file_labels, label_slice)\n",
    "\n",
    "                label_idx = label_idx + 1"
   ]
  },
  {
   "cell_type": "code",
   "execution_count": 6,
   "outputs": [
    {
     "name": "stdout",
     "output_type": "stream",
     "text": [
      "test\n"
     ]
    }
   ],
   "source": [
    "print('test')\n",
    "a = 300"
   ],
   "metadata": {
    "collapsed": false,
    "ExecuteTime": {
     "end_time": "2023-12-06T14:54:05.863273597Z",
     "start_time": "2023-12-06T14:54:05.852244259Z"
    }
   },
   "id": "cb28bd1bb1e8f7c5"
  },
  {
   "cell_type": "code",
   "execution_count": null,
   "outputs": [],
   "source": [
    "print(a)"
   ],
   "metadata": {
    "collapsed": false
   },
   "id": "d46aa2d9689988b9"
  }
 ],
 "metadata": {
  "kernelspec": {
   "display_name": "Python 3 (ipykernel)",
   "language": "python",
   "name": "python3"
  },
  "language_info": {
   "codemirror_mode": {
    "name": "ipython",
    "version": 3
   },
   "file_extension": ".py",
   "mimetype": "text/x-python",
   "name": "python",
   "nbconvert_exporter": "python",
   "pygments_lexer": "ipython3",
   "version": "3.10.0"
  }
 },
 "nbformat": 4,
 "nbformat_minor": 5
}
