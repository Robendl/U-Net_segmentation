{
 "cells": [
  {
   "cell_type": "markdown",
   "source": [
    "Imports:"
   ],
   "metadata": {
    "collapsed": false
   },
   "id": "3009ea868d5d3290"
  },
  {
   "cell_type": "code",
   "execution_count": 2,
   "outputs": [],
   "source": [
    "import os\n",
    "import nibabel as nib\n",
    "import numpy as np\n",
    "import matplotlib.pyplot as plt\n",
    "import random as r\n",
    "import sklearn\n",
    "from sklearn.utils.random import sample_without_replacement\n",
    "\n",
    "random_state = 12"
   ],
   "metadata": {
    "collapsed": false,
    "ExecuteTime": {
     "end_time": "2023-12-06T16:00:15.277655827Z",
     "start_time": "2023-12-06T16:00:14.547584845Z"
    }
   },
   "id": "d8f854c0b4e57bb1"
  },
  {
   "cell_type": "markdown",
   "source": [
    "Convert 3d data to png images:"
   ],
   "metadata": {
    "collapsed": false
   },
   "id": "d6e7c44be0cd501d"
  },
  {
   "cell_type": "code",
   "execution_count": 2,
   "outputs": [
    {
     "ename": "NameError",
     "evalue": "name 'os' is not defined",
     "output_type": "error",
     "traceback": [
      "\u001B[0;31m---------------------------------------------------------------------------\u001B[0m",
      "\u001B[0;31mNameError\u001B[0m                                 Traceback (most recent call last)",
      "Cell \u001B[0;32mIn[2], line 11\u001B[0m\n\u001B[1;32m      8\u001B[0m positive_labels \u001B[38;5;241m=\u001B[39m []\n\u001B[1;32m      9\u001B[0m negative_labels \u001B[38;5;241m=\u001B[39m []\n\u001B[0;32m---> 11\u001B[0m \u001B[43mos\u001B[49m\u001B[38;5;241m.\u001B[39mmakedirs(output_dir_labels, exist_ok\u001B[38;5;241m=\u001B[39m\u001B[38;5;28;01mTrue\u001B[39;00m)\n\u001B[1;32m     12\u001B[0m os\u001B[38;5;241m.\u001B[39mmakedirs(output_dir_images, exist_ok\u001B[38;5;241m=\u001B[39m\u001B[38;5;28;01mTrue\u001B[39;00m)\n\u001B[1;32m     14\u001B[0m \u001B[38;5;66;03m# List all the .nii.gz files in the directory\u001B[39;00m\n",
      "\u001B[0;31mNameError\u001B[0m: name 'os' is not defined"
     ]
    }
   ],
   "source": [
    "# Path to the directory containing your images and labels\n",
    "images_dir = 'data/imagesTr'\n",
    "labels_dir = 'data/labelsTr'\n",
    "output_dir_images = 'data/images_png' \n",
    "output_dir_labels = 'data/labels_png'\n",
    "positive_images = []\n",
    "negative_images = []\n",
    "positive_labels = []\n",
    "negative_labels = []\n",
    "\n",
    "os.makedirs(output_dir_labels, exist_ok=True)\n",
    "os.makedirs(output_dir_images, exist_ok=True)\n",
    "\n",
    "# List all the .nii.gz files in the directory\n",
    "file_list = [file for file in os.listdir(images_dir) if file.endswith('.nii.gz') and file.startswith('lung')]\n",
    "modified_list = [file_name[:-7] for file_name in file_list]\n",
    "len_list = len(modified_list)\n",
    "\n",
    "for idx, file in enumerate(file_list):\n",
    "    print(f'\\r{idx}/{len(file_list)}', end='')\n",
    "    # Load the label\n",
    "    label_path = os.path.join(labels_dir, file)\n",
    "    label = nib.load(label_path).get_fdata()\n",
    "\n",
    "    # Check if the label contains any white (tumor) pixels\n",
    "    if np.max(label) > 0:\n",
    "        # Load the corresponding image\n",
    "        image_path = os.path.join(images_dir, file)\n",
    "        img = nib.load(image_path).get_fdata()\n",
    "\n",
    "        # Convert slices with tumor labels to PNG\n",
    "        for i in range(label.shape[2]):  # Loop through the slices\n",
    "            label_slice = label[:, :, i]\n",
    "            ones = np.sum(label_slice == 1.0)\n",
    "\n",
    "            slice_img = ((img[:, :, i] - np.min(img[:, :, i])) / (np.max(img[:, :, i]) - np.min(img[:, :, i]))) * 255.0\n",
    "            slice_img = slice_img.astype(np.uint8)\n",
    "            if ones > 0.015 * label_slice.shape[0]:\n",
    "                positive_images.append(slice_img)\n",
    "                positive_labels.append(label_slice)\n",
    "            else:\n",
    "                negative_images.append(slice_img)\n",
    "                negative_labels.append(label_slice)"
   ],
   "metadata": {
    "collapsed": false,
    "ExecuteTime": {
     "end_time": "2023-12-06T16:13:38.614773579Z",
     "start_time": "2023-12-06T16:13:38.568266385Z"
    }
   },
   "id": "f41ddcc885024f06"
  },
  {
   "cell_type": "code",
   "execution_count": null,
   "outputs": [],
   "source": [
    "sampled_positive_labels, sampled_positive_images = sklearn.utils.resample((negative_labels, negative_images), n_samples=len(positive_labels), random_state=random_state)\n",
    "data_images = np.concatenate(positive_images, negative_images)\n",
    "data_labels = np.concatenate(negative_labels, positive_labels)\n",
    "sklearn.utils.shuffle((data_labels, data_images), random_state=random_state)\n",
    "for idx, img in enumerate(data_images):\n",
    "    output_fn = os.path.join(output_dir_images, (\"image\" + str(idx) + \".png\"))\n",
    "    plt.imsave(output_fn, img)\n",
    "\n",
    "for idx, label in enumerate(data_labels):\n",
    "    output_fn = os.path.join(output_dir_labels, (\"label\" + str(idx) + \".png\"))\n",
    "    plt.imsave(output_fn, label)"
   ],
   "metadata": {
    "collapsed": false,
    "ExecuteTime": {
     "start_time": "2023-12-06T16:01:19.398206977Z"
    }
   },
   "id": "1218a901a309f86d"
  },
  {
   "cell_type": "code",
   "execution_count": null,
   "outputs": [],
   "source": [],
   "metadata": {
    "collapsed": false,
    "ExecuteTime": {
     "end_time": "2023-12-06T16:01:19.405497393Z",
     "start_time": "2023-12-06T16:01:19.400030811Z"
    }
   },
   "id": "41e8f7750a0f4ac7"
  }
 ],
 "metadata": {
  "kernelspec": {
   "display_name": "Python 3 (ipykernel)",
   "language": "python",
   "name": "python3"
  },
  "language_info": {
   "codemirror_mode": {
    "name": "ipython",
    "version": 3
   },
   "file_extension": ".py",
   "mimetype": "text/x-python",
   "name": "python",
   "nbconvert_exporter": "python",
   "pygments_lexer": "ipython3",
   "version": "3.10.0"
  }
 },
 "nbformat": 4,
 "nbformat_minor": 5
}
