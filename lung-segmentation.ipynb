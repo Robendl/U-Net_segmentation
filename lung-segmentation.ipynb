{
 "cells": [
  {
   "cell_type": "markdown",
   "id": "3009ea868d5d3290",
   "metadata": {
    "collapsed": false
   },
   "source": [
    "Imports:"
   ]
  },
  {
   "cell_type": "code",
   "execution_count": 2,
   "id": "d8f854c0b4e57bb1",
   "metadata": {
    "ExecuteTime": {
     "end_time": "2023-12-06T16:00:15.277655827Z",
     "start_time": "2023-12-06T16:00:14.547584845Z"
    },
    "collapsed": false
   },
   "outputs": [],
   "source": [
    "import os\n",
    "import nibabel as nib\n",
    "import numpy as np\n",
    "import matplotlib.pyplot as plt\n",
    "import random as r\n",
    "import sklearn\n",
    "from sklearn.utils.random import sample_without_replacement\n",
    "\n",
    "random_state = 12"
   ]
  },
  {
   "cell_type": "markdown",
   "id": "d6e7c44be0cd501d",
   "metadata": {
    "collapsed": false
   },
   "source": [
    "Convert 3d data to png images:"
   ]
  },
  {
   "cell_type": "code",
   "execution_count": 3,
   "id": "f41ddcc885024f06",
   "metadata": {
    "ExecuteTime": {
     "end_time": "2023-12-06T16:13:38.614773579Z",
     "start_time": "2023-12-06T16:13:38.568266385Z"
    },
    "collapsed": false
   },
   "outputs": [
    {
     "name": "stdout",
     "output_type": "stream",
     "text": [
      "40/63"
     ]
    }
   ],
   "source": [
    "# Path to the directory containing your images and labels\n",
    "images_dir = 'data/imagesTr'\n",
    "labels_dir = 'data/labelsTr'\n",
    "output_dir_images = 'data/images_png' \n",
    "output_dir_labels = 'data/labels_png'\n",
    "\n",
    "os.makedirs(output_dir_labels, exist_ok=True)\n",
    "os.makedirs(output_dir_images, exist_ok=True)\n",
    "\n",
    "# List all the .nii.gz files in the directory\n",
    "file_list = [file for file in os.listdir(images_dir) if file.endswith('.nii.gz') and file.startswith('lung')]\n",
    "modified_list = [file_name[:-7] for file_name in file_list]\n",
    "len_list = len(modified_list)\n",
    "label_idx = 0\n",
    "\n",
    "for idx, file in enumerate(file_list):\n",
    "    print(f'\\r{idx}/{len(file_list)}', end='')\n",
    "    # Load the label\n",
    "    label_path = os.path.join(labels_dir, file)\n",
    "    label = nib.load(label_path).get_fdata()\n",
    "\n",
    "    # Load the corresponding image\n",
    "    image_path = os.path.join(images_dir, file)\n",
    "    img = nib.load(image_path).get_fdata()\n",
    "\n",
    "    labels_size = label.shape[2]\n",
    "    indices = list(range(0, labels_size)) \n",
    "\n",
    "    # Convert slices with tumor labels to PNG\n",
    "    for i in range(labels_size):  # Loop through the slices\n",
    "        label_slice = label[:, :, i]\n",
    "        ones = np.sum(label_slice == 1.0)\n",
    "\n",
    "        slice_img = ((img[:, :, i] - np.min(img[:, :, i])) / (np.max(img[:, :, i]) - np.min(img[:, :, i]))) * 255.0\n",
    "        slice_img = slice_img.astype(np.uint8)\n",
    "\n",
    "        if ones > 0:\n",
    "            # print(\"i\", i)\n",
    "            # print(\"indices\", indices[i])\n",
    "            # exit()\n",
    "            indices.remove(i)\n",
    "\n",
    "        if ones > 0.015 * label_slice.shape[0]:\n",
    "            # Save the slice as PNG\n",
    "            output_file_imgs = os.path.join(output_dir_images, (\"image\" + str(label_idx) + \".png\"))\n",
    "            output_file_labels = os.path.join(output_dir_labels, (\"image\" + str(label_idx) + \".png\"))\n",
    "            plt.imsave(output_file_imgs, slice_img)\n",
    "            plt.imsave(output_file_labels, label_slice)\n",
    "\n",
    "            label_idx = label_idx + 1\n",
    "\n",
    "    \n",
    "    selected_indices = r.sample(indices, 26)\n",
    "\n",
    "    for j in selected_indices:\n",
    "        label_slice = label[:, :, j]\n",
    "\n",
    "        slice_img = ((img[:, :, j] - np.min(img[:, :, j])) / (np.max(img[:, :, j]) - np.min(img[:, :, j]))) * 255.0\n",
    "        slice_img = slice_img.astype(np.uint8)            \n",
    "\n",
    "        output_file_imgs = os.path.join(output_dir_images, (\"image\" + str(label_idx) + \".png\"))\n",
    "        output_file_labels = os.path.join(output_dir_labels, (\"image\" + str(label_idx) + \".png\"))\n",
    "        plt.imsave(output_file_imgs, slice_img)\n",
    "        plt.imsave(output_file_labels, label_slice)\n",
    "\n",
    "        label_idx = label_idx + 1"
   ]
  },
  {
   "cell_type": "code",
   "execution_count": null,
   "id": "1218a901a309f86d",
   "metadata": {
    "ExecuteTime": {
     "start_time": "2023-12-06T16:01:19.398206977Z"
    },
    "collapsed": false
   },
   "outputs": [],
   "source": []
  },
  {
   "cell_type": "code",
   "execution_count": null,
   "id": "41e8f7750a0f4ac7",
   "metadata": {
    "ExecuteTime": {
     "end_time": "2023-12-06T16:01:19.405497393Z",
     "start_time": "2023-12-06T16:01:19.400030811Z"
    },
    "collapsed": false
   },
   "outputs": [],
   "source": []
  }
 ],
 "metadata": {
  "kernelspec": {
   "display_name": "Python 3 (ipykernel)",
   "language": "python",
   "name": "python3"
  },
  "language_info": {
   "codemirror_mode": {
    "name": "ipython",
    "version": 3
   },
   "file_extension": ".py",
   "mimetype": "text/x-python",
   "name": "python",
   "nbconvert_exporter": "python",
   "pygments_lexer": "ipython3",
   "version": "3.10.0"
  }
 },
 "nbformat": 4,
 "nbformat_minor": 5
}
